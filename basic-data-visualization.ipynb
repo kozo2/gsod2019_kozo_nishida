{
  "nbformat": 4,
  "nbformat_minor": 0,
  "metadata": {
    "colab": {
      "name": "py4cy Basic Data Visualization",
      "provenance": [],
      "private_outputs": true,
      "collapsed_sections": []
    },
    "kernelspec": {
      "name": "python3",
      "display_name": "Python 3"
    }
  },
  "cells": [
    {
      "cell_type": "markdown",
      "metadata": {
        "id": "YdYnqTyS9Cf_",
        "colab_type": "text"
      },
      "source": [
        "# Installation\n",
        "\n",
        "We install Cytoscape within this Google Colab environment (not on your PC).\n",
        "\n",
        "To see Cytoscape in the Colab environment, we'll set up a Linux desktop environment in Google Colab and access from your PC to it with VNC.\n",
        "\n",
        "All you need to do outside of this Notebook is sign up and log in to a web service called [ngrok](https://ngrok.com/) and install a VNC viewer.\n",
        "\n",
        "The conceptual diagram is shown below.![alt text](https://github.com/nrnb/gsod2019_kozo_nishida/raw/master/images/vncANDngrok4Colab1.png)\n",
        "\n",
        "## Setting up xfce4 Desktop environment in Google Colab\n",
        "\n",
        "This cell installs a Linux desktop environment in a Google Colab VM environment.\n",
        "\n",
        "This cell also installs a VNC server and a tool called [ngrok](https://ngrok.com/).\n",
        "\n",
        "[ngrok](https://ngrok.com/) allows you to access from your PC to the Linux Desktop environment in Google Colab.\n",
        "\n",
        "![alt text](https://github.com/nrnb/gsod2019_kozo_nishida/raw/master/images/vncANDngrok4Colab2.png)\n",
        "\n",
        "\n",
        "\n"
      ]
    },
    {
      "cell_type": "code",
      "metadata": {
        "id": "KfnJCK8p87up",
        "colab_type": "code",
        "colab": {}
      },
      "source": [
        "# Install xfce4,vnc4server, and others on Google Colab\n",
        "!apt install xfce4 xfce4-goodies vnc4server htop\n",
        "# Install ngrok client on Google Colab\n",
        "!wget -q -c -nc https://bin.equinox.io/c/4VmDzA7iaHb/ngrok-stable-linux-amd64.zip\n",
        "!unzip -qq -n ngrok-stable-linux-amd64.zip\n",
        "\n",
        "# configure VNC and xfce4\n",
        "!mkdir ~/.vnc\n",
        "!printf \"#!/bin/bash\\nstartxfce4 &\" > ~/.vnc/xstartup\n",
        "!chmod +x ~/.vnc/xstartup"
      ],
      "execution_count": 0,
      "outputs": []
    },
    {
      "cell_type": "markdown",
      "metadata": {
        "id": "F-GBQbZb_ijw",
        "colab_type": "text"
      },
      "source": [
        "## Running VNC service\n",
        "\n",
        "### Setting the VNC password for the remote Desktop environment\n",
        "This password is used by the VNC client to connect from your computer to the Linux desktop of xfce4 in Google Colab.\n",
        "\n",
        "This password must be shorter than 8 characters.\n",
        "If you input more than 8 characters, only the first 8 characters will be used.\n"
      ]
    },
    {
      "cell_type": "code",
      "metadata": {
        "id": "EuD4RU8E9itR",
        "colab_type": "code",
        "colab": {}
      },
      "source": [
        "!vncpasswd"
      ],
      "execution_count": 0,
      "outputs": []
    },
    {
      "cell_type": "markdown",
      "metadata": {
        "id": "aOCBnPlO-lig",
        "colab_type": "text"
      },
      "source": [
        "### Starting VNC server\n",
        "\n",
        "We use port `5901` for the VNC service.\n",
        "We start the VNC server in the next cell.\n",
        "\n",
        "![alt text](https://github.com/nrnb/gsod2019_kozo_nishida/raw/master/images/vncANDngrok4Colab3.png)\n"
      ]
    },
    {
      "cell_type": "code",
      "metadata": {
        "id": "E6Zy6IA2-DAF",
        "colab_type": "code",
        "colab": {}
      },
      "source": [
        "get_ipython().system_raw('vnc4server -httpport 5901 &')"
      ],
      "execution_count": 0,
      "outputs": []
    },
    {
      "cell_type": "code",
      "metadata": {
        "id": "xzAokDk6_hG-",
        "colab_type": "code",
        "colab": {}
      },
      "source": [
        "!pgrep vnc -a"
      ],
      "execution_count": 0,
      "outputs": []
    },
    {
      "cell_type": "markdown",
      "metadata": {
        "id": "F8l7w-xaABg3",
        "colab_type": "text"
      },
      "source": [
        "### Exposing the VNC service to outside world with ngrok\n",
        "The [ngrok](https://ngrok.com/) creates secure introspectable tunnels to localhost (In our case the localhost == Google Colab).\n",
        "\n",
        "You can connect to the Linux Desktop in Google Colab with a VNC client software. (For example [UltraVNC](https://www.uvnc.com/) Viewer.)\n",
        "\n",
        "![alt text](https://github.com/nrnb/gsod2019_kozo_nishida/raw/master/images/vncANDngrok4Colab4.png)\n",
        "\n",
        "#### Using your ngrok authtoken\n",
        "Please signup and login [ngrok](https://ngrok.com/) and copy your ngrok authtoken from\n",
        "https://dashboard.ngrok.com/auth/your-authtoken\n",
        "\n",
        "![alt text](https://github.com/nrnb/gsod2019_kozo_nishida/raw/master/images/ngrokAuthtoken.png)\n",
        "\n",
        "Then, run the following cell, paste the token into the input form created by the execution, and press enter."
      ]
    },
    {
      "cell_type": "code",
      "metadata": {
        "id": "-exw9KQkidTb",
        "colab_type": "code",
        "colab": {}
      },
      "source": [
        "import getpass\n",
        "ngrokauthtoken = getpass.getpass(prompt='Paste ngrok authtoken')"
      ],
      "execution_count": 0,
      "outputs": []
    },
    {
      "cell_type": "markdown",
      "metadata": {
        "id": "4KanC8rw1e-q",
        "colab_type": "text"
      },
      "source": [
        "Then run the next cell to create a tunnel for the VNC service."
      ]
    },
    {
      "cell_type": "code",
      "metadata": {
        "id": "924AMAE4_16A",
        "colab_type": "code",
        "colab": {}
      },
      "source": [
        "get_ipython().system_raw('./ngrok authtoken ' + ngrokauthtoken + ' && ./ngrok tcp 5901 &')"
      ],
      "execution_count": 0,
      "outputs": []
    },
    {
      "cell_type": "code",
      "metadata": {
        "id": "frWKwsDeApuj",
        "colab_type": "code",
        "colab": {}
      },
      "source": [
        "!pgrep ngrok -a"
      ],
      "execution_count": 0,
      "outputs": []
    },
    {
      "cell_type": "markdown",
      "metadata": {
        "id": "0fWNmqVJGQqh",
        "colab_type": "text"
      },
      "source": [
        "The following cell shows you the ngrok address and the tunneled port number of VNC service.\n",
        "\n",
        "![alt text](https://github.com/nrnb/gsod2019_kozo_nishida/raw/master/images/vncANDngrok4Colab5.png)"
      ]
    },
    {
      "cell_type": "code",
      "metadata": {
        "id": "qfB3e-H6AtsH",
        "colab_type": "code",
        "colab": {}
      },
      "source": [
        "%%sh\n",
        "curl -s http://localhost:4040/api/tunnels | python -c \"import sys, json; print(json.load(sys.stdin)['tunnels'][0]['public_url'])\""
      ],
      "execution_count": 0,
      "outputs": []
    },
    {
      "cell_type": "markdown",
      "metadata": {
        "id": "rS-KCHzgIAF7",
        "colab_type": "text"
      },
      "source": [
        "Please copy the infomation after `tcp://`, and paste it to your UltraVNC Viewer (or the other VNC client). The password for this VNC connection is the one you already set with `!vncpasswd`.\n",
        "\n",
        "![alt text](https://github.com/nrnb/gsod2019_kozo_nishida/raw/master/images/vncANDngrok4Colab6.png)\n",
        "\n",
        "![alt text](https://github.com/nrnb/gsod2019_kozo_nishida/raw/master/images/ultraVNCviewer.png)\n",
        "\n",
        "![Select default config](https://github.com/nrnb/gsod2019_kozo_nishida/raw/master/images/Inkedxfce4%20in%20google%20colab_LI.jpg)\n"
      ]
    },
    {
      "cell_type": "markdown",
      "metadata": {
        "id": "-pbFzxcrHVv1",
        "colab_type": "text"
      },
      "source": [
        "## Setting up Cytoscape 3.8.0 and py4cytoscape\n",
        "The following cells install Cytoscape and py4cytoscape within Google Colab's Linux desktop environment."
      ]
    },
    {
      "cell_type": "code",
      "metadata": {
        "id": "fgP7cpTqAwGR",
        "colab_type": "code",
        "colab": {}
      },
      "source": [
        "!wget https://github.com/cytoscape/cytoscape/releases/download/3.8.0/cytoscape-unix-3.8.0.tar.gz\n",
        "!tar xf cytoscape-unix-3.8.0.tar.gz"
      ],
      "execution_count": 0,
      "outputs": []
    },
    {
      "cell_type": "code",
      "metadata": {
        "id": "cThVfOq7HmOA",
        "colab_type": "code",
        "colab": {}
      },
      "source": [
        "!pip install git+https://github.com/bdemchak/py4cytoscape"
      ],
      "execution_count": 0,
      "outputs": []
    },
    {
      "cell_type": "markdown",
      "metadata": {
        "id": "mwzXy3hCHVdO",
        "colab_type": "text"
      },
      "source": [
        "## Running Cytoscape in the xfce4 Desktop environment in Google Colab\n",
        "1. Right click the xfce4 Desktop in the UltraVNC viewer.\n",
        "2. Click `Open Terminal Here` ![Open terminal](https://github.com/nrnb/gsod2019_kozo_nishida/raw/master/images/open%20term%20in%20xfce4.png)\n",
        "3. Run `/content/cytoscape-unix-3.8.0/cytoscape.sh` in the terminal shell.\n",
        "![Run Cytoscape in Google Colab](https://github.com/nrnb/gsod2019_kozo_nishida/raw/master/images/Run%20Cytoscape%20in%20xfce4%20in%20Google%20Colab.png)"
      ]
    },
    {
      "cell_type": "markdown",
      "metadata": {
        "id": "jD3RQfUGHVKP",
        "colab_type": "text"
      },
      "source": [
        "### Checking the connection between this Colab notebook and the Cytoscape REST service"
      ]
    },
    {
      "cell_type": "code",
      "metadata": {
        "id": "gCE0zWk8JICS",
        "colab_type": "code",
        "colab": {}
      },
      "source": [
        "!curl localhost:1234"
      ],
      "execution_count": 0,
      "outputs": []
    },
    {
      "cell_type": "markdown",
      "metadata": {
        "id": "jqxTDUl9JvH4",
        "colab_type": "text"
      },
      "source": [
        "### Getting started py4cytoscape"
      ]
    },
    {
      "cell_type": "code",
      "metadata": {
        "id": "NYFeDqMMJXcP",
        "colab_type": "code",
        "colab": {}
      },
      "source": [
        "import pandas as pd\n",
        "import py4cytoscape as p4c\n",
        "p4c.cytoscape_ping()"
      ],
      "execution_count": 0,
      "outputs": []
    },
    {
      "cell_type": "code",
      "metadata": {
        "id": "ABnjufjsJ63r",
        "colab_type": "code",
        "colab": {}
      },
      "source": [
        "p4c.cytoscape_version_info()"
      ],
      "execution_count": 0,
      "outputs": []
    },
    {
      "cell_type": "markdown",
      "metadata": {
        "id": "IJtKPXKyKLyd",
        "colab_type": "text"
      },
      "source": [
        "# Basic Data Visualization\n",
        "**Cytoscape is an open source software platform for integrating, visualizing, and analyzing measurement data in the context of networks.**\n",
        "\n",
        "This tutorial presents a scenario of how expression and network data can be combined to tell a biological story and includes these concepts:\n",
        "\n",
        "- Visualizing networks using expression data.\n",
        "- Filtering networks based on expression data.\n",
        "- Assessing expression data in the context of a biological network.\n",
        "\n",
        "## Loading Network\n",
        "You can download the [demo network session file](https://nrnb.org/data/BasicDataVizDemo.cys) to your current working directory by running…"
      ]
    },
    {
      "cell_type": "code",
      "metadata": {
        "id": "rN5R03QBKGVK",
        "colab_type": "code",
        "colab": {}
      },
      "source": [
        "!wget https://nrnb.org/data/BasicDataVizDemo.cys"
      ],
      "execution_count": 0,
      "outputs": []
    },
    {
      "cell_type": "markdown",
      "metadata": {
        "id": "4nMbLYitKxbe",
        "colab_type": "text"
      },
      "source": [
        "Now open the demo network using…"
      ]
    },
    {
      "cell_type": "code",
      "metadata": {
        "id": "-4h4E_hPKtEp",
        "colab_type": "code",
        "colab": {}
      },
      "source": [
        "p4c.open_session(file_location=\"/content/BasicDataVizDemo.cys\")"
      ],
      "execution_count": 0,
      "outputs": []
    },
    {
      "cell_type": "markdown",
      "metadata": {
        "id": "ALRiWN3tLRA_",
        "colab_type": "text"
      },
      "source": [
        "Now you should see a network like this."
      ]
    },
    {
      "cell_type": "code",
      "metadata": {
        "id": "nzeuqH-NLLM4",
        "colab_type": "code",
        "colab": {}
      },
      "source": [
        "p4c.export_image(filename=\"BasicDataVizDemo.png\")\n",
        "from IPython.display import Image\n",
        "Image('BasicDataVizDemo.png')"
      ],
      "execution_count": 0,
      "outputs": []
    },
    {
      "cell_type": "markdown",
      "metadata": {
        "id": "BqodIByzOVSe",
        "colab_type": "text"
      },
      "source": [
        "## Visualizing Expression Data on Networks\n",
        "\n",
        "Probably the most common use of expression data in Cytoscape is to set the **visual properties** of the nodes (color, shape, border) in a network according to expression data. This creates a powerful visualization, portraying functional relation and experimental response at the same time. Here, we will show an example of doing this.\n",
        "\n",
        "The data used in this example is from yeast, and represents an experiment of perturbations of the genes **Gal1**, **Gal4**, and **Gal80**, which are all yeast transcription factors.\n",
        "\n",
        "For this tutorial, the experimental data was part of the Cytoscape session file you loaded earlier, and is visible in the Node Table:\n",
        "\n",
        "![alt text](https://github.com/nrnb/gsod2019_kozo_nishida/raw/master/images/Galbrowse3.png)\n",
        "\n",
        "- You can select nodes in the network by\n"
      ]
    },
    {
      "cell_type": "code",
      "metadata": {
        "id": "rzmfl-MVM2Tk",
        "colab_type": "code",
        "colab": {}
      },
      "source": [
        "p4c.select_nodes(['YDL194W', 'YLR345W'], by_col='name')"
      ],
      "execution_count": 0,
      "outputs": []
    },
    {
      "cell_type": "markdown",
      "metadata": {
        "id": "matUHl0bP4ZG",
        "colab_type": "text"
      },
      "source": [
        "- Selecting one or more nodes in the network will update the Node Table to show only the corresponding row(s).\n",
        "\n",
        "![alt text](https://github.com/nrnb/gsod2019_kozo_nishida/raw/master/images/SelectNodes.PNG)\n",
        "\n",
        "We can now use the data to manipulate the visual properties of the network by mapping specific data columns to visual style properties:\n",
        "\n",
        "- The **gal80Rexp** expression values will be mapped to node color; nodes with low expression will be colored blue, nodes with high expression will be colored red.\n",
        "- Significance for expression values will be mapped to Node Border Width, so nodes with significant changes will appear with a thicker border.\n",
        "\n",
        "### Set Node Fill Color\n",
        "\n",
        "- Click on the **Style** tab in the Control Panel. And you can set node fill color by\n"
      ]
    },
    {
      "cell_type": "code",
      "metadata": {
        "id": "-7YsqfX8P7Wo",
        "colab_type": "code",
        "colab": {}
      },
      "source": [
        "gal80Rexp_score_table = p4c.get_table_columns(table='node', columns='gal80Rexp')"
      ],
      "execution_count": 0,
      "outputs": []
    },
    {
      "cell_type": "code",
      "metadata": {
        "id": "o_CH5V5IR9ES",
        "colab_type": "code",
        "colab": {}
      },
      "source": [
        "gal80Rexp_score_table.head()"
      ],
      "execution_count": 0,
      "outputs": []
    },
    {
      "cell_type": "code",
      "metadata": {
        "id": "ZnX_SZKLR-m0",
        "colab_type": "code",
        "colab": {}
      },
      "source": [
        "gal80Rexp_min = gal80Rexp_score_table.min().values[0]\n",
        "gal80Rexp_max = gal80Rexp_score_table.max().values[0]\n",
        "gal80Rexp_center = gal80Rexp_min + (gal80Rexp_max - gal80Rexp_min)/2"
      ],
      "execution_count": 0,
      "outputs": []
    },
    {
      "cell_type": "code",
      "metadata": {
        "id": "gmBnsFLjSQ-d",
        "colab_type": "code",
        "colab": {}
      },
      "source": [
        "p4c.set_node_color_mapping('gal80Rexp', [gal80Rexp_min, gal80Rexp_center, gal80Rexp_max], ['#0000FF', '#FFFFFF', '#FF0000'])"
      ],
      "execution_count": 0,
      "outputs": []
    },
    {
      "cell_type": "markdown",
      "metadata": {
        "id": "Jj5lxOY4-81M",
        "colab_type": "text"
      },
      "source": [
        "- This produces an initial gradient ranging from blue to red for expression values. Notice that the nodes in the network change color. ![alt text](https://github.com/nrnb/gsod2019_kozo_nishida/raw/master/images/SetNodeFillColor.jpg)\n",
        "\n",
        "### Set Default Node Color\n",
        "Some nodes in the network don’t have any data, and for those nodes, the default color applies. In our case, the default color is blue, which falls within the spectrum of our blue-red gradient. This is not ideal for data visualization, so a useful trick is to choose a color outside the gradient spectrum to distinguish nodes with no defined expression value.\n",
        "\n",
        "- Still in the **Style** tab, And you can set default node color to dark gray by"
      ]
    },
    {
      "cell_type": "code",
      "metadata": {
        "id": "RRYUn_aCSjKJ",
        "colab_type": "code",
        "colab": {}
      },
      "source": [
        "p4c.set_node_color_default('#666666')"
      ],
      "execution_count": 0,
      "outputs": []
    },
    {
      "cell_type": "markdown",
      "metadata": {
        "id": "DtNP8_E6KPOn",
        "colab_type": "text"
      },
      "source": [
        "![alt text](https://github.com/nrnb/gsod2019_kozo_nishida/blob/master/images/SetDefaultNodeColor.PNG?raw=true)\n"
      ]
    },
    {
      "cell_type": "markdown",
      "metadata": {
        "id": "-g5cDqFvK3DZ",
        "colab_type": "text"
      },
      "source": [
        "### Set Node Border Width\n",
        "You can set the Border Width by\n"
      ]
    },
    {
      "cell_type": "code",
      "metadata": {
        "id": "6mfM59yzLy0a",
        "colab_type": "code",
        "colab": {}
      },
      "source": [
        "gal80Rsig_score_table = p4c.get_table_columns(table='node', columns='gal80Rsig')\n",
        "gal80Rsig_min = gal80Rsig_score_table.min().values[0]\n",
        "gal80Rsig_max = gal80Rsig_score_table.max().values[0]\n",
        "p4c.set_node_border_width_mapping('gal80Rsig', table_column_values=[gal80Rsig_min, gal80Rsig_max], widths=[10, 30])"
      ],
      "execution_count": 0,
      "outputs": []
    },
    {
      "cell_type": "markdown",
      "metadata": {
        "id": "nRiy-GoWOVaU",
        "colab_type": "text"
      },
      "source": [
        "This defines the node border width over the range of `gal80Rsig` column p-values like\n",
        "\n",
        "![alt text](https://github.com/nrnb/gsod2019_kozo_nishida/raw/master/images/SetNodeBorderWidth.PNG)"
      ]
    },
    {
      "cell_type": "markdown",
      "metadata": {
        "id": "8tqO8GCPO-tv",
        "colab_type": "text"
      },
      "source": [
        "## Layouts\n",
        "\n",
        "An important aspect of network visualization is the layout, meaning the positioning of nodes and edges. Our network had a preset layout in the original file you imported, but this can be changed.\n",
        "\n",
        "- Let’s change the layout to **Degree Sorted Circle Layout** by"
      ]
    },
    {
      "cell_type": "code",
      "metadata": {
        "id": "F3uAxtgvQUpU",
        "colab_type": "code",
        "colab": {}
      },
      "source": [
        "p4c.layout_network('degree-circle')"
      ],
      "execution_count": 0,
      "outputs": []
    },
    {
      "cell_type": "code",
      "metadata": {
        "id": "7dAjEYgoQ1s5",
        "colab_type": "code",
        "colab": {}
      },
      "source": [
        "p4c.export_image(filename='degree-circle.png')\n",
        "Image('degree-circle.png')"
      ],
      "execution_count": 0,
      "outputs": []
    },
    {
      "cell_type": "markdown",
      "metadata": {
        "id": "KNwcJxHKSlXQ",
        "colab_type": "text"
      },
      "source": [
        "In this layout, nodes are sorted by degree (connectedness), with the highest degree node at the 6 o’clock position, and remaining nodes are sorted counter clock-wise based on decreasing degree.\n",
        "\n",
        "For this network, a degree-sorted circle layout may not be the most effective. Instead, let’s try a force-directed layout instead, which may work better with this network."
      ]
    },
    {
      "cell_type": "code",
      "metadata": {
        "id": "Khgvjp1jRGur",
        "colab_type": "code",
        "colab": {}
      },
      "source": [
        "p4c.layout_network('force-directed')"
      ],
      "execution_count": 0,
      "outputs": []
    },
    {
      "cell_type": "code",
      "metadata": {
        "id": "TaN-BQfpUC9S",
        "colab_type": "code",
        "colab": {}
      },
      "source": [
        "p4c.export_image(filename='force-directed.png')\n",
        "Image('force-directed.png')"
      ],
      "execution_count": 0,
      "outputs": []
    },
    {
      "cell_type": "markdown",
      "metadata": {
        "id": "R8DWqjmEUadk",
        "colab_type": "text"
      },
      "source": [
        "Cytoscape supports many different layout algorithms, described in detail in the [Cytoscape manual](http://manual.cytoscape.org/en/stable/Navigation_and_Layout.html?highlight=layout#automatic-layout-algorithms)."
      ]
    },
    {
      "cell_type": "markdown",
      "metadata": {
        "id": "RuQErN55UqD1",
        "colab_type": "text"
      },
      "source": [
        "## Select Nodes\n",
        "\n",
        "Cytoscape allows you to easily filter and select nodes and edges based on data attributes. Next, we will select a subset of nodes with high expression in the gal80 knockout:\n",
        "\n",
        "- Let’s create column filter for **Node: gal80Rexp** by"
      ]
    },
    {
      "cell_type": "code",
      "metadata": {
        "id": "19A2qliWUUSq",
        "colab_type": "code",
        "colab": {}
      },
      "source": [
        "p4c.create_column_filter('myFilter', 'gal80Rexp', 2.00, \"GREATER_THAN\")"
      ],
      "execution_count": 0,
      "outputs": []
    },
    {
      "cell_type": "markdown",
      "metadata": {
        "id": "qte6V8bnB5iM",
        "colab_type": "text"
      },
      "source": [
        "You should now see only a few nodes in the network selected (highlighted yellow)."
      ]
    },
    {
      "cell_type": "code",
      "metadata": {
        "id": "G1mutLvOBsht",
        "colab_type": "code",
        "colab": {}
      },
      "source": [
        "p4c.export_image(filename='column-filter.png')\n",
        "Image('column-filter.png')"
      ],
      "execution_count": 0,
      "outputs": []
    },
    {
      "cell_type": "markdown",
      "metadata": {
        "id": "TRSmLEbUCN_W",
        "colab_type": "text"
      },
      "source": [
        "### Expand Selection and Create New Network\n",
        "We have now selected only the few top expressing nodes. To see the context of these nodes in the larger network, we can expand the selection of nodes to include the nodes connecting to the selected nodes, i.e. the first neighbors. Once we have that larger selection, we can create a new network.\n",
        "\n",
        "- Select the first neighbors of selected nodes by"
      ]
    },
    {
      "cell_type": "code",
      "metadata": {
        "id": "9eaPodSLCIDE",
        "colab_type": "code",
        "colab": {}
      },
      "source": [
        "p4c.select_first_neighbors()"
      ],
      "execution_count": 0,
      "outputs": []
    },
    {
      "cell_type": "code",
      "metadata": {
        "id": "_24zpKuXCqYK",
        "colab_type": "code",
        "colab": {}
      },
      "source": [
        "p4c.export_image(filename='first-neighbors.png')\n",
        "Image('first-neighbors.png')"
      ],
      "execution_count": 0,
      "outputs": []
    },
    {
      "cell_type": "markdown",
      "metadata": {
        "id": "isRKX6DBC364",
        "colab_type": "text"
      },
      "source": [
        "Digging into the biology of this network, it turns out that GAL4 is repressed by GAL80. Both nodes (GAL4 and GAL11) show fairly small changes in expression, and neither change is statistically significant: they are pale blue with thin borders. These slight changes in expression suggest that the critical change affecting the red nodes might be somewhere else in the network, and not either of these nodes. GAL4 interacts with GAL80, which shows a significant level of repression: it is medium blue with a thicker border.\n",
        "\n",
        "Note that while GAL80 shows evidence of significant repression, most nodes interacting with GAL4 show significant levels of induction: they are rendered as red rectangles. GAL11 is a general transcription co-factor with many interactions.\n",
        "\n",
        "Putting all of this together, we see that the ***transcriptional activation activity of Gal4 is repressed by Gal80***. So, repression of Gal80 increases the transcriptional activation activity of Gal4. Even though the expression of Gal4 itself did not change much, ***the Gal4 transcripts were much more likely to be active transcription factors when Gal80 was repressed.*** This explains why there is so much up-regulation in the vicinity of Gal4.\n",
        "\n",
        "#### Summary\n",
        "In summary, we have:\n",
        "\n",
        "- Explored a yeast interactome from a transcription factor knockout experiment\n",
        "- Created a visual style using expression value as node color and with border width mapped to significance\n",
        "- Selected high expressing genes and their neighbors and created a new network\n",
        "\n",
        "Finally, we can now export this network as a publication-quality image…."
      ]
    },
    {
      "cell_type": "markdown",
      "metadata": {
        "id": "BcjYyuf4Dtdi",
        "colab_type": "text"
      },
      "source": [
        "## Saving Results\n",
        "\n",
        "Cytoscape provides a number of ways to save results and visualizations:\n",
        "\n",
        "- As a session:"
      ]
    },
    {
      "cell_type": "code",
      "metadata": {
        "id": "-VO5wDq_Dvn7",
        "colab_type": "code",
        "colab": {}
      },
      "source": [
        "p4c.save_session('basic-data-visualization.cys')"
      ],
      "execution_count": 0,
      "outputs": []
    },
    {
      "cell_type": "markdown",
      "metadata": {
        "id": "BfuznJNcGTwg",
        "colab_type": "text"
      },
      "source": [
        "- As an image:"
      ]
    },
    {
      "cell_type": "code",
      "metadata": {
        "id": "gyrlPqHLGQ0E",
        "colab_type": "code",
        "colab": {}
      },
      "source": [
        "p4c.export_image('basic-data-visualization', type='PDF')\n",
        "p4c.export_image('basic-data-visualization', type='PNG')\n",
        "p4c.export_image('basic-data-visualization', type='JPEG')\n",
        "p4c.export_image('basic-data-visualization', type='SVG')\n",
        "p4c.export_image('basic-data-visualization', type='PS')"
      ],
      "execution_count": 0,
      "outputs": []
    },
    {
      "cell_type": "markdown",
      "metadata": {
        "id": "wq2eyEmHIS9_",
        "colab_type": "text"
      },
      "source": [
        "- To a public repository:\n",
        "\n",
        "```\n",
        "p4c.export_network_to_ndex('userid', 'password', True)\n",
        "```\n",
        "\n",
        "- As a graph format file (Formats: “CX JSON”, “Cytoscape.js JSON”, “GraphML”, “XGMML”, “SIF”,…):"
      ]
    },
    {
      "cell_type": "code",
      "metadata": {
        "id": "MiVu-uaXIMOf",
        "colab_type": "code",
        "colab": {}
      },
      "source": [
        "p4c.export_network('basic-data-visualization', 'CX')\n",
        "p4c.export_network('basic-data-visualization', 'cyjs')\n",
        "p4c.export_network('basic-data-visualization', 'graphML')\n",
        "p4c.export_network('basic-data-visualization', 'xGMML')\n",
        "p4c.export_network('basic-data-visualization', 'SIF')"
      ],
      "execution_count": 0,
      "outputs": []
    },
    {
      "cell_type": "code",
      "metadata": {
        "id": "le_0x0j7J5TM",
        "colab_type": "code",
        "colab": {}
      },
      "source": [
        ""
      ],
      "execution_count": 0,
      "outputs": []
    }
  ]
}
