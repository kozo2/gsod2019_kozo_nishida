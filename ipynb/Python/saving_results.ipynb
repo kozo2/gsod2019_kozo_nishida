{
  "nbformat": 4,
  "nbformat_minor": 0,
  "metadata": {
    "colab": {
      "name": "saving-results",
      "provenance": [],
      "private_outputs": true
    },
    "kernelspec": {
      "name": "python3",
      "display_name": "Python 3"
    }
  },
  "cells": [
    {
      "cell_type": "code",
      "metadata": {
        "id": "2VFxguKsFQzL",
        "colab_type": "code",
        "colab": {}
      },
      "source": [
        "!pip install git+https://github.com/bdemchak/py4cytoscape"
      ],
      "execution_count": 0,
      "outputs": []
    },
    {
      "cell_type": "code",
      "metadata": {
        "id": "1zn1tye7GDR7",
        "colab_type": "code",
        "colab": {}
      },
      "source": [
        "import py4cytoscape as p4c"
      ],
      "execution_count": 0,
      "outputs": []
    },
    {
      "cell_type": "markdown",
      "metadata": {
        "id": "Va1tRQrQF2jy",
        "colab_type": "text"
      },
      "source": [
        "# Saving results\n",
        "Cytoscape provides a number of ways to save results and visualizations:\n",
        "\n",
        "- As a session:"
      ]
    },
    {
      "cell_type": "code",
      "metadata": {
        "id": "nYsZyUrZFRwg",
        "colab_type": "code",
        "colab": {}
      },
      "source": [
        "p4c.save_session('saving-results.cys')"
      ],
      "execution_count": 0,
      "outputs": []
    },
    {
      "cell_type": "markdown",
      "metadata": {
        "id": "O_kXoZWHGJgH",
        "colab_type": "text"
      },
      "source": [
        "- As an image:"
      ]
    },
    {
      "cell_type": "code",
      "metadata": {
        "id": "O1tUjwB5GLl-",
        "colab_type": "code",
        "colab": {}
      },
      "source": [
        "p4c.export_image('saving-results', type='PDF')\n",
        "p4c.export_image('saving-results', type='PNG')\n",
        "p4c.export_image('saving-results', type='JPEG')\n",
        "p4c.export_image('saving-results', type='SVG')\n",
        "p4c.export_image('saving-results', type='PS')"
      ],
      "execution_count": 0,
      "outputs": []
    },
    {
      "cell_type": "markdown",
      "metadata": {
        "id": "X9y3h_BlGPmW",
        "colab_type": "text"
      },
      "source": [
        "- To the web:"
      ]
    },
    {
      "cell_type": "code",
      "metadata": {
        "id": "Sxt3Jyn9GUFq",
        "colab_type": "code",
        "colab": {}
      },
      "source": [
        "p4c.export_network_to_ndex('user', 'pass', True)"
      ],
      "execution_count": 0,
      "outputs": []
    },
    {
      "cell_type": "markdown",
      "metadata": {
        "id": "OTUZ-C2FGdMo",
        "colab_type": "text"
      },
      "source": [
        "- As a graph format file:"
      ]
    },
    {
      "cell_type": "code",
      "metadata": {
        "id": "Tr0x8kt7GgZh",
        "colab_type": "code",
        "colab": {}
      },
      "source": [
        "p4c.export_network('saving-results', 'CX')\n",
        "p4c.export_network('saving-results', 'cyjs')\n",
        "p4c.export_network('saving-results', 'graphML')\n",
        "p4c.export_network('saving-results', 'xGMML')\n",
        "p4c.export_network('saving-results', 'SIF')"
      ],
      "execution_count": 0,
      "outputs": []
    }
  ]
}