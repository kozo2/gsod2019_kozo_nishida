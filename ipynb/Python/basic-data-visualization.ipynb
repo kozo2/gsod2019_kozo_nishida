{
  "nbformat": 4,
  "nbformat_minor": 0,
  "metadata": {
    "colab": {
      "name": "basic-data-visualization",
      "provenance": [],
      "private_outputs": true,
      "collapsed_sections": []
    },
    "kernelspec": {
      "name": "python3",
      "display_name": "Python 3"
    }
  },
  "cells": [
    {
      "cell_type": "markdown",
      "metadata": {
        "id": "IJtKPXKyKLyd",
        "colab_type": "text"
      },
      "source": [
        "# Basic Data Visualization\n",
        "**Cytoscape is an open source software platform for integrating, visualizing, and analyzing measurement data in the context of networks.**\n",
        "\n",
        "This tutorial presents a scenario of how expression and network data can be combined to tell a biological story and includes these concepts:\n",
        "\n",
        "- Visualizing networks using expression data.\n",
        "- Filtering networks based on expression data.\n",
        "- Assessing expression data in the context of a biological network.\n",
        "\n",
        "## Loading Network\n",
        "You can download the [demo network session file](https://nrnb.org/data/BasicDataVizDemo.cys) to your current working directory by running…"
      ]
    },
    {
      "cell_type": "code",
      "metadata": {
        "id": "rN5R03QBKGVK",
        "colab_type": "code",
        "colab": {}
      },
      "source": [
        "!wget https://nrnb.org/data/BasicDataVizDemo.cys"
      ],
      "execution_count": 0,
      "outputs": []
    },
    {
      "cell_type": "markdown",
      "metadata": {
        "id": "4nMbLYitKxbe",
        "colab_type": "text"
      },
      "source": [
        "Now open the demo network using…"
      ]
    },
    {
      "cell_type": "code",
      "metadata": {
        "id": "-4h4E_hPKtEp",
        "colab_type": "code",
        "colab": {}
      },
      "source": [
        "p4c.open_session(file_location=\"./BasicDataVizDemo.cys\")"
      ],
      "execution_count": 0,
      "outputs": []
    },
    {
      "cell_type": "markdown",
      "metadata": {
        "id": "ALRiWN3tLRA_",
        "colab_type": "text"
      },
      "source": [
        "Now you should see a network like this."
      ]
    },
    {
      "cell_type": "code",
      "metadata": {
        "id": "nzeuqH-NLLM4",
        "colab_type": "code",
        "colab": {}
      },
      "source": [
        "p4c.export_image(filename=\"BasicDataVizDemo.png\")\n",
        "from IPython.display import Image\n",
        "Image('BasicDataVizDemo.png')"
      ],
      "execution_count": 0,
      "outputs": []
    },
    {
      "cell_type": "markdown",
      "metadata": {
        "id": "BqodIByzOVSe",
        "colab_type": "text"
      },
      "source": [
        "## Visualizing Expression Data on Networks\n",
        "\n",
        "Probably the most common use of expression data in Cytoscape is to set the **visual properties** of the nodes (color, shape, border) in a network according to expression data. This creates a powerful visualization, portraying functional relation and experimental response at the same time. Here, we will show an example of doing this.\n",
        "\n",
        "The data used in this example is from yeast, and represents an experiment of perturbations of the genes **Gal1**, **Gal4**, and **Gal80**, which are all yeast transcription factors.\n",
        "\n",
        "For this tutorial, the experimental data was part of the Cytoscape session file you loaded earlier, and is visible in the Node Table:\n",
        "\n",
        "![alt text](https://github.com/nrnb/gsod2019_kozo_nishida/raw/master/images/Galbrowse3.png)\n",
        "\n",
        "- You can select nodes in the network by\n"
      ]
    },
    {
      "cell_type": "code",
      "metadata": {
        "id": "rzmfl-MVM2Tk",
        "colab_type": "code",
        "colab": {}
      },
      "source": [
        "p4c.select_nodes(['YDL194W', 'YLR345W'], by_col='name')"
      ],
      "execution_count": 0,
      "outputs": []
    },
    {
      "cell_type": "markdown",
      "metadata": {
        "id": "matUHl0bP4ZG",
        "colab_type": "text"
      },
      "source": [
        "- Selecting one or more nodes in the network will update the Node Table to show only the corresponding row(s).\n",
        "\n",
        "![alt text](https://github.com/nrnb/gsod2019_kozo_nishida/raw/master/images/SelectNodes.PNG)\n",
        "\n",
        "We can now use the data to manipulate the visual properties of the network by mapping specific data columns to visual style properties:\n",
        "\n",
        "- The **gal80Rexp** expression values will be mapped to node color; nodes with low expression will be colored blue, nodes with high expression will be colored red.\n",
        "- Significance for expression values will be mapped to Node Border Width, so nodes with significant changes will appear with a thicker border.\n",
        "\n",
        "### Set Node Fill Color\n",
        "\n",
        "- Click on the **Style** tab in the Control Panel. And you can set node fill color by\n"
      ]
    },
    {
      "cell_type": "code",
      "metadata": {
        "id": "-7YsqfX8P7Wo",
        "colab_type": "code",
        "colab": {}
      },
      "source": [
        "gal80Rexp_score_table = p4c.get_table_columns(table='node', columns='gal80Rexp')"
      ],
      "execution_count": 0,
      "outputs": []
    },
    {
      "cell_type": "code",
      "metadata": {
        "id": "o_CH5V5IR9ES",
        "colab_type": "code",
        "colab": {}
      },
      "source": [
        "gal80Rexp_score_table.head()"
      ],
      "execution_count": 0,
      "outputs": []
    },
    {
      "cell_type": "code",
      "metadata": {
        "id": "ZnX_SZKLR-m0",
        "colab_type": "code",
        "colab": {}
      },
      "source": [
        "gal80Rexp_min = gal80Rexp_score_table.min().values[0]\n",
        "gal80Rexp_max = gal80Rexp_score_table.max().values[0]\n",
        "gal80Rexp_center = gal80Rexp_min + (gal80Rexp_max - gal80Rexp_min)/2"
      ],
      "execution_count": 0,
      "outputs": []
    },
    {
      "cell_type": "code",
      "metadata": {
        "id": "gmBnsFLjSQ-d",
        "colab_type": "code",
        "colab": {}
      },
      "source": [
        "p4c.set_node_color_mapping('gal80Rexp', [gal80Rexp_min, gal80Rexp_center, gal80Rexp_max], ['#0000FF', '#FFFFFF', '#FF0000'])"
      ],
      "execution_count": 0,
      "outputs": []
    },
    {
      "cell_type": "markdown",
      "metadata": {
        "id": "Jj5lxOY4-81M",
        "colab_type": "text"
      },
      "source": [
        "- This produces an initial gradient ranging from blue to red for expression values. Notice that the nodes in the network change color. ![alt text](https://github.com/nrnb/gsod2019_kozo_nishida/raw/master/images/SetNodeFillColor.jpg)\n",
        "\n",
        "### Set Default Node Color\n",
        "Some nodes in the network don’t have any data, and for those nodes, the default color applies. In our case, the default color is blue, which falls within the spectrum of our blue-red gradient. This is not ideal for data visualization, so a useful trick is to choose a color outside the gradient spectrum to distinguish nodes with no defined expression value.\n",
        "\n",
        "- Still in the **Style** tab, And you can set default node color to dark gray by"
      ]
    },
    {
      "cell_type": "code",
      "metadata": {
        "id": "RRYUn_aCSjKJ",
        "colab_type": "code",
        "colab": {}
      },
      "source": [
        "p4c.set_node_color_default('#666666')"
      ],
      "execution_count": 0,
      "outputs": []
    },
    {
      "cell_type": "markdown",
      "metadata": {
        "id": "DtNP8_E6KPOn",
        "colab_type": "text"
      },
      "source": [
        "![alt text](https://github.com/nrnb/gsod2019_kozo_nishida/blob/master/images/SetDefaultNodeColor.PNG?raw=true)\n"
      ]
    },
    {
      "cell_type": "markdown",
      "metadata": {
        "id": "-g5cDqFvK3DZ",
        "colab_type": "text"
      },
      "source": [
        "### Set Node Border Width\n",
        "You can set the Border Width by\n"
      ]
    },
    {
      "cell_type": "code",
      "metadata": {
        "id": "6mfM59yzLy0a",
        "colab_type": "code",
        "colab": {}
      },
      "source": [
        "gal80Rsig_score_table = p4c.get_table_columns(table='node', columns='gal80Rsig')\n",
        "gal80Rsig_min = gal80Rsig_score_table.min().values[0]\n",
        "gal80Rsig_max = gal80Rsig_score_table.max().values[0]\n",
        "p4c.set_node_border_width_mapping('gal80Rsig', table_column_values=[gal80Rsig_min, gal80Rsig_max], widths=[10, 30])"
      ],
      "execution_count": 0,
      "outputs": []
    },
    {
      "cell_type": "markdown",
      "metadata": {
        "id": "nRiy-GoWOVaU",
        "colab_type": "text"
      },
      "source": [
        "This defines the node border width over the range of `gal80Rsig` column p-values like\n",
        "\n",
        "![alt text](https://github.com/nrnb/gsod2019_kozo_nishida/raw/master/images/SetNodeBorderWidth.PNG)"
      ]
    },
    {
      "cell_type": "markdown",
      "metadata": {
        "id": "8tqO8GCPO-tv",
        "colab_type": "text"
      },
      "source": [
        "## Layouts\n",
        "\n",
        "An important aspect of network visualization is the layout, meaning the positioning of nodes and edges. Our network had a preset layout in the original file you imported, but this can be changed.\n",
        "\n",
        "- Let’s change the layout to **Degree Sorted Circle Layout** by"
      ]
    },
    {
      "cell_type": "code",
      "metadata": {
        "id": "F3uAxtgvQUpU",
        "colab_type": "code",
        "colab": {}
      },
      "source": [
        "p4c.layout_network('degree-circle')"
      ],
      "execution_count": 0,
      "outputs": []
    },
    {
      "cell_type": "code",
      "metadata": {
        "id": "7dAjEYgoQ1s5",
        "colab_type": "code",
        "colab": {}
      },
      "source": [
        "p4c.export_image(filename='degree-circle.png')\n",
        "Image('degree-circle.png')"
      ],
      "execution_count": 0,
      "outputs": []
    },
    {
      "cell_type": "markdown",
      "metadata": {
        "id": "KNwcJxHKSlXQ",
        "colab_type": "text"
      },
      "source": [
        "In this layout, nodes are sorted by degree (connectedness), with the highest degree node at the 6 o’clock position, and remaining nodes are sorted counter clock-wise based on decreasing degree.\n",
        "\n",
        "For this network, a degree-sorted circle layout may not be the most effective. Instead, let’s try a force-directed layout instead, which may work better with this network."
      ]
    },
    {
      "cell_type": "code",
      "metadata": {
        "id": "Khgvjp1jRGur",
        "colab_type": "code",
        "colab": {}
      },
      "source": [
        "p4c.layout_network('force-directed')"
      ],
      "execution_count": 0,
      "outputs": []
    },
    {
      "cell_type": "code",
      "metadata": {
        "id": "TaN-BQfpUC9S",
        "colab_type": "code",
        "colab": {}
      },
      "source": [
        "p4c.export_image(filename='force-directed.png')\n",
        "Image('force-directed.png')"
      ],
      "execution_count": 0,
      "outputs": []
    },
    {
      "cell_type": "markdown",
      "metadata": {
        "id": "R8DWqjmEUadk",
        "colab_type": "text"
      },
      "source": [
        "Cytoscape supports many different layout algorithms, described in detail in the [Cytoscape manual](http://manual.cytoscape.org/en/stable/Navigation_and_Layout.html?highlight=layout#automatic-layout-algorithms)."
      ]
    },
    {
      "cell_type": "markdown",
      "metadata": {
        "id": "RuQErN55UqD1",
        "colab_type": "text"
      },
      "source": [
        "## Select Nodes\n",
        "\n",
        "Cytoscape allows you to easily filter and select nodes and edges based on data attributes. Next, we will select a subset of nodes with high expression in the gal80 knockout:\n",
        "\n",
        "- Let’s create column filter for **Node: gal80Rexp** by"
      ]
    },
    {
      "cell_type": "code",
      "metadata": {
        "id": "19A2qliWUUSq",
        "colab_type": "code",
        "colab": {}
      },
      "source": [
        "p4c.create_column_filter('myFilter', 'gal80Rexp', 2.00, \"GREATER_THAN\")"
      ],
      "execution_count": 0,
      "outputs": []
    },
    {
      "cell_type": "markdown",
      "metadata": {
        "id": "qte6V8bnB5iM",
        "colab_type": "text"
      },
      "source": [
        "You should now see only a few nodes in the network selected (highlighted yellow)."
      ]
    },
    {
      "cell_type": "code",
      "metadata": {
        "id": "G1mutLvOBsht",
        "colab_type": "code",
        "colab": {}
      },
      "source": [
        "p4c.export_image(filename='column-filter.png')\n",
        "Image('column-filter.png')"
      ],
      "execution_count": 0,
      "outputs": []
    },
    {
      "cell_type": "markdown",
      "metadata": {
        "id": "TRSmLEbUCN_W",
        "colab_type": "text"
      },
      "source": [
        "### Expand Selection and Create New Network\n",
        "We have now selected only the few top expressing nodes. To see the context of these nodes in the larger network, we can expand the selection of nodes to include the nodes connecting to the selected nodes, i.e. the first neighbors. Once we have that larger selection, we can create a new network.\n",
        "\n",
        "- Select the first neighbors of selected nodes by"
      ]
    },
    {
      "cell_type": "code",
      "metadata": {
        "id": "9eaPodSLCIDE",
        "colab_type": "code",
        "colab": {}
      },
      "source": [
        "p4c.select_first_neighbors()"
      ],
      "execution_count": 0,
      "outputs": []
    },
    {
      "cell_type": "code",
      "metadata": {
        "id": "_24zpKuXCqYK",
        "colab_type": "code",
        "colab": {}
      },
      "source": [
        "p4c.export_image(filename='first-neighbors.png')\n",
        "Image('first-neighbors.png')"
      ],
      "execution_count": 0,
      "outputs": []
    },
    {
      "cell_type": "markdown",
      "metadata": {
        "id": "isRKX6DBC364",
        "colab_type": "text"
      },
      "source": [
        "Digging into the biology of this network, it turns out that GAL4 is repressed by GAL80. Both nodes (GAL4 and GAL11) show fairly small changes in expression, and neither change is statistically significant: they are pale blue with thin borders. These slight changes in expression suggest that the critical change affecting the red nodes might be somewhere else in the network, and not either of these nodes. GAL4 interacts with GAL80, which shows a significant level of repression: it is medium blue with a thicker border.\n",
        "\n",
        "Note that while GAL80 shows evidence of significant repression, most nodes interacting with GAL4 show significant levels of induction: they are rendered as red rectangles. GAL11 is a general transcription co-factor with many interactions.\n",
        "\n",
        "Putting all of this together, we see that the ***transcriptional activation activity of Gal4 is repressed by Gal80***. So, repression of Gal80 increases the transcriptional activation activity of Gal4. Even though the expression of Gal4 itself did not change much, ***the Gal4 transcripts were much more likely to be active transcription factors when Gal80 was repressed.*** This explains why there is so much up-regulation in the vicinity of Gal4.\n",
        "\n",
        "#### Summary\n",
        "In summary, we have:\n",
        "\n",
        "- Explored a yeast interactome from a transcription factor knockout experiment\n",
        "- Created a visual style using expression value as node color and with border width mapped to significance\n",
        "- Selected high expressing genes and their neighbors and created a new network\n",
        "\n",
        "Finally, we can now export this network as a publication-quality image…."
      ]
    },
    {
      "cell_type": "markdown",
      "metadata": {
        "id": "BcjYyuf4Dtdi",
        "colab_type": "text"
      },
      "source": [
        "## Saving Results\n",
        "\n",
        "Cytoscape provides a number of ways to save results and visualizations:\n",
        "\n",
        "- As a session:"
      ]
    },
    {
      "cell_type": "code",
      "metadata": {
        "id": "-VO5wDq_Dvn7",
        "colab_type": "code",
        "colab": {}
      },
      "source": [
        "p4c.save_session('basic-data-visualization.cys')"
      ],
      "execution_count": 0,
      "outputs": []
    },
    {
      "cell_type": "markdown",
      "metadata": {
        "id": "BfuznJNcGTwg",
        "colab_type": "text"
      },
      "source": [
        "- As an image:"
      ]
    },
    {
      "cell_type": "code",
      "metadata": {
        "id": "gyrlPqHLGQ0E",
        "colab_type": "code",
        "colab": {}
      },
      "source": [
        "p4c.export_image('basic-data-visualization', type='PDF')\n",
        "p4c.export_image('basic-data-visualization', type='PNG')\n",
        "p4c.export_image('basic-data-visualization', type='JPEG')\n",
        "p4c.export_image('basic-data-visualization', type='SVG')\n",
        "p4c.export_image('basic-data-visualization', type='PS')"
      ],
      "execution_count": 0,
      "outputs": []
    },
    {
      "cell_type": "markdown",
      "metadata": {
        "id": "wq2eyEmHIS9_",
        "colab_type": "text"
      },
      "source": [
        "- To a public repository:\n",
        "\n",
        "```\n",
        "p4c.export_network_to_ndex('userid', 'password', True)\n",
        "```\n",
        "\n",
        "- As a graph format file (Formats: “CX JSON”, “Cytoscape.js JSON”, “GraphML”, “XGMML”, “SIF”,…):"
      ]
    },
    {
      "cell_type": "code",
      "metadata": {
        "id": "MiVu-uaXIMOf",
        "colab_type": "code",
        "colab": {}
      },
      "source": [
        "p4c.export_network('basic-data-visualization', 'CX')\n",
        "p4c.export_network('basic-data-visualization', 'cyjs')\n",
        "p4c.export_network('basic-data-visualization', 'graphML')\n",
        "p4c.export_network('basic-data-visualization', 'xGMML')\n",
        "p4c.export_network('basic-data-visualization', 'SIF')"
      ],
      "execution_count": 0,
      "outputs": []
    },
    {
      "cell_type": "code",
      "metadata": {
        "id": "le_0x0j7J5TM",
        "colab_type": "code",
        "colab": {}
      },
      "source": [
        ""
      ],
      "execution_count": 0,
      "outputs": []
    }
  ]
}
