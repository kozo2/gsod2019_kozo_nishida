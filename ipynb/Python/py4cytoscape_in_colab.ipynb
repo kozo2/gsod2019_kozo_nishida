{
  "nbformat": 4,
  "nbformat_minor": 0,
  "metadata": {
    "colab": {
      "name": "Setting up py4cytoscape on Google Colab",
      "provenance": [],
      "private_outputs": true,
      "collapsed_sections": []
    },
    "kernelspec": {
      "name": "python3",
      "display_name": "Python 3"
    }
  },
  "cells": [
    {
      "cell_type": "markdown",
      "metadata": {
        "id": "YdYnqTyS9Cf_",
        "colab_type": "text"
      },
      "source": [
        "# Installation\n",
        "\n",
        "We install Cytoscape within this Google Colab environment (not on your PC).\n",
        "\n",
        "To see Cytoscape in the Colab environment, we'll set up a Linux desktop environment in Google Colab and access from your PC to it with VNC.\n",
        "\n",
        "All you need to do outside of this Notebook is sign up and log in to a web service called [ngrok](https://ngrok.com/) and install a VNC viewer.\n",
        "\n",
        "The conceptual diagram is shown below.![alt text](https://github.com/nrnb/gsod2019_kozo_nishida/raw/master/images/vncANDngrok4Colab1.png)\n",
        "\n",
        "## Setting up xfce4 Desktop environment in Google Colab\n",
        "\n",
        "This cell installs a Linux desktop environment in a Google Colab VM environment.\n",
        "\n",
        "This cell also installs a VNC server and a tool called [ngrok](https://ngrok.com/).\n",
        "\n",
        "[ngrok](https://ngrok.com/) allows you to access from your PC to the Linux Desktop environment in Google Colab.\n",
        "\n",
        "![alt text](https://github.com/nrnb/gsod2019_kozo_nishida/raw/master/images/vncANDngrok4Colab2.png)\n",
        "\n",
        "\n",
        "\n"
      ]
    },
    {
      "cell_type": "code",
      "metadata": {
        "id": "KfnJCK8p87up",
        "colab_type": "code",
        "colab": {}
      },
      "source": [
        "# Install xfce4,vnc4server, and others on Google Colab\n",
        "!apt install xfce4 xfce4-goodies vnc4server htop\n",
        "# Install ngrok client on Google Colab\n",
        "!wget -q -c -nc https://bin.equinox.io/c/4VmDzA7iaHb/ngrok-stable-linux-amd64.zip\n",
        "!unzip -qq -n ngrok-stable-linux-amd64.zip\n",
        "\n",
        "# configure VNC and xfce4\n",
        "!mkdir ~/.vnc\n",
        "!printf \"#!/bin/bash\\nstartxfce4 &\" > ~/.vnc/xstartup\n",
        "!chmod +x ~/.vnc/xstartup"
      ],
      "execution_count": 0,
      "outputs": []
    },
    {
      "cell_type": "markdown",
      "metadata": {
        "id": "F-GBQbZb_ijw",
        "colab_type": "text"
      },
      "source": [
        "## Running VNC service\n",
        "\n",
        "### Setting the VNC password for the remote Desktop environment\n",
        "This password is used by the VNC client to connect from your computer to the Linux desktop of xfce4 in Google Colab.\n",
        "\n",
        "This password must be shorter than 8 characters.\n",
        "If you input more than 8 characters, only the first 8 characters will be used.\n"
      ]
    },
    {
      "cell_type": "code",
      "metadata": {
        "id": "EuD4RU8E9itR",
        "colab_type": "code",
        "colab": {}
      },
      "source": [
        "!vncpasswd"
      ],
      "execution_count": 0,
      "outputs": []
    },
    {
      "cell_type": "markdown",
      "metadata": {
        "id": "aOCBnPlO-lig",
        "colab_type": "text"
      },
      "source": [
        "### Starting VNC server\n",
        "\n",
        "We use port `5901` for the VNC service.\n",
        "We start the VNC server in the next cell.\n",
        "\n",
        "![alt text](https://github.com/nrnb/gsod2019_kozo_nishida/raw/master/images/vncANDngrok4Colab3.png)\n"
      ]
    },
    {
      "cell_type": "code",
      "metadata": {
        "id": "E6Zy6IA2-DAF",
        "colab_type": "code",
        "colab": {}
      },
      "source": [
        "get_ipython().system_raw('vnc4server -httpport 5901 &')"
      ],
      "execution_count": 0,
      "outputs": []
    },
    {
      "cell_type": "code",
      "metadata": {
        "id": "xzAokDk6_hG-",
        "colab_type": "code",
        "colab": {}
      },
      "source": [
        "!pgrep vnc -a"
      ],
      "execution_count": 0,
      "outputs": []
    },
    {
      "cell_type": "markdown",
      "metadata": {
        "id": "F8l7w-xaABg3",
        "colab_type": "text"
      },
      "source": [
        "### Exposing the VNC service to outside world with ngrok\n",
        "The [ngrok](https://ngrok.com/) creates secure introspectable tunnels to localhost (In our case the localhost == Google Colab).\n",
        "\n",
        "You can connect to the Linux Desktop in Google Colab with a VNC client software. (For example [UltraVNC](https://www.uvnc.com/) Viewer.)\n",
        "\n",
        "![alt text](https://github.com/nrnb/gsod2019_kozo_nishida/raw/master/images/vncANDngrok4Colab4.png)\n",
        "\n",
        "#### Using your ngrok authtoken\n",
        "Please signup and login [ngrok](https://ngrok.com/) and copy your ngrok authtoken from\n",
        "https://dashboard.ngrok.com/auth/your-authtoken\n",
        "\n",
        "![alt text](https://github.com/nrnb/gsod2019_kozo_nishida/raw/master/images/ngrokAuthtoken.png)\n",
        "\n",
        "Then, run the following cell, paste the token into the input form created by the execution, and press enter."
      ]
    },
    {
      "cell_type": "code",
      "metadata": {
        "id": "-exw9KQkidTb",
        "colab_type": "code",
        "colab": {}
      },
      "source": [
        "import getpass\n",
        "ngrokauthtoken = getpass.getpass(prompt='Paste ngrok authtoken')"
      ],
      "execution_count": 0,
      "outputs": []
    },
    {
      "cell_type": "markdown",
      "metadata": {
        "id": "4KanC8rw1e-q",
        "colab_type": "text"
      },
      "source": [
        "Then run the next cell to create a tunnel for the VNC service."
      ]
    },
    {
      "cell_type": "code",
      "metadata": {
        "id": "924AMAE4_16A",
        "colab_type": "code",
        "colab": {}
      },
      "source": [
        "get_ipython().system_raw('./ngrok authtoken ' + ngrokauthtoken + ' && ./ngrok tcp 5901 &')"
      ],
      "execution_count": 0,
      "outputs": []
    },
    {
      "cell_type": "code",
      "metadata": {
        "id": "frWKwsDeApuj",
        "colab_type": "code",
        "colab": {}
      },
      "source": [
        "!pgrep ngrok -a"
      ],
      "execution_count": 0,
      "outputs": []
    },
    {
      "cell_type": "markdown",
      "metadata": {
        "id": "0fWNmqVJGQqh",
        "colab_type": "text"
      },
      "source": [
        "The following cell shows you the ngrok address and the tunneled port number of VNC service.\n",
        "\n",
        "![alt text](https://github.com/nrnb/gsod2019_kozo_nishida/raw/master/images/vncANDngrok4Colab5.png)"
      ]
    },
    {
      "cell_type": "code",
      "metadata": {
        "id": "qfB3e-H6AtsH",
        "colab_type": "code",
        "colab": {}
      },
      "source": [
        "%%sh\n",
        "curl -s http://localhost:4040/api/tunnels | python -c \"import sys, json; print(json.load(sys.stdin)['tunnels'][0]['public_url'])\""
      ],
      "execution_count": 0,
      "outputs": []
    },
    {
      "cell_type": "markdown",
      "metadata": {
        "id": "rS-KCHzgIAF7",
        "colab_type": "text"
      },
      "source": [
        "Please copy the infomation after `tcp://`, and paste it to your UltraVNC Viewer (or the other VNC client). The password for this VNC connection is the one you already set with `!vncpasswd`.\n",
        "\n",
        "![alt text](https://github.com/nrnb/gsod2019_kozo_nishida/raw/master/images/vncANDngrok4Colab6.png)\n",
        "\n",
        "![alt text](https://github.com/nrnb/gsod2019_kozo_nishida/raw/master/images/ultraVNCviewer.png)\n",
        "\n",
        "![Select default config](https://github.com/nrnb/gsod2019_kozo_nishida/raw/master/images/Inkedxfce4%20in%20google%20colab_LI.jpg)\n"
      ]
    },
    {
      "cell_type": "markdown",
      "metadata": {
        "id": "-pbFzxcrHVv1",
        "colab_type": "text"
      },
      "source": [
        "## Setting up Cytoscape 3.8.0 and py4cytoscape\n",
        "The following cells install Cytoscape and py4cytoscape within Google Colab's Linux desktop environment."
      ]
    },
    {
      "cell_type": "code",
      "metadata": {
        "id": "fgP7cpTqAwGR",
        "colab_type": "code",
        "colab": {}
      },
      "source": [
        "!wget https://github.com/cytoscape/cytoscape/releases/download/3.8.0/cytoscape-unix-3.8.0.tar.gz\n",
        "!tar xf cytoscape-unix-3.8.0.tar.gz"
      ],
      "execution_count": 0,
      "outputs": []
    },
    {
      "cell_type": "code",
      "metadata": {
        "id": "cThVfOq7HmOA",
        "colab_type": "code",
        "colab": {}
      },
      "source": [
        "!pip install git+https://github.com/bdemchak/py4cytoscape"
      ],
      "execution_count": 0,
      "outputs": []
    },
    {
      "cell_type": "markdown",
      "metadata": {
        "id": "mwzXy3hCHVdO",
        "colab_type": "text"
      },
      "source": [
        "## Running Cytoscape in the xfce4 Desktop environment in Google Colab\n",
        "1. Right click the xfce4 Desktop in the UltraVNC viewer.\n",
        "2. Click `Open Terminal Here` ![Open terminal](https://github.com/nrnb/gsod2019_kozo_nishida/raw/master/images/open%20term%20in%20xfce4.png)\n",
        "3. Run `/content/cytoscape-unix-3.8.0/cytoscape.sh` in the terminal shell.\n",
        "![Run Cytoscape in Google Colab](https://github.com/nrnb/gsod2019_kozo_nishida/raw/master/images/Run%20Cytoscape%20in%20xfce4%20in%20Google%20Colab.png)"
      ]
    },
    {
      "cell_type": "markdown",
      "metadata": {
        "id": "jD3RQfUGHVKP",
        "colab_type": "text"
      },
      "source": [
        "### Checking the connection between this Colab notebook and the Cytoscape REST service"
      ]
    },
    {
      "cell_type": "code",
      "metadata": {
        "id": "gCE0zWk8JICS",
        "colab_type": "code",
        "colab": {}
      },
      "source": [
        "!curl localhost:1234"
      ],
      "execution_count": 0,
      "outputs": []
    },
    {
      "cell_type": "markdown",
      "metadata": {
        "id": "jqxTDUl9JvH4",
        "colab_type": "text"
      },
      "source": [
        "### Getting started py4cytoscape"
      ]
    },
    {
      "cell_type": "code",
      "metadata": {
        "id": "NYFeDqMMJXcP",
        "colab_type": "code",
        "colab": {}
      },
      "source": [
        "import pandas as pd\n",
        "import py4cytoscape as p4c\n",
        "p4c.cytoscape_ping()"
      ],
      "execution_count": 0,
      "outputs": []
    },
    {
      "cell_type": "code",
      "metadata": {
        "id": "ABnjufjsJ63r",
        "colab_type": "code",
        "colab": {}
      },
      "source": [
        "p4c.cytoscape_version_info()"
      ],
      "execution_count": 0,
      "outputs": []
    }
  ]
}
